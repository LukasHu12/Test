{
 "cells": [
  {
   "cell_type": "code",
   "execution_count": 5,
   "metadata": {},
   "outputs": [
    {
     "name": "stderr",
     "output_type": "stream",
     "text": [
      "/anaconda3/lib/python3.7/site-packages/statsmodels/compat/pandas.py:49: FutureWarning: The Panel class is removed from pandas. Accessing it from the top-level namespace will also be removed in the next version\n",
      "  data_klasses = (pandas.Series, pandas.DataFrame, pandas.Panel)\n"
     ]
    }
   ],
   "source": [
    "import numpy as np\n",
    "import pandas as pd\n",
    "import statsmodels.api as sm\n",
    "\n"
   ]
  },
  {
   "cell_type": "code",
   "execution_count": 11,
   "metadata": {},
   "outputs": [
    {
     "name": "stdout",
     "output_type": "stream",
     "text": [
      "Type a number here:6\n",
      "Type a number here:6\n",
      "Type a number here:6\n",
      "3\n"
     ]
    }
   ],
   "source": [
    "x = input(\"Type a number here:\")\n",
    "y = input(\"Type a number here:\")\n",
    "z = input(\"Type a number here:\")\n",
    "\n",
    "try:\n",
    "    x = float(x)\n",
    "    y = float(y)\n",
    "    z=float(z)\n",
    "    if x == z:\n",
    "        if z==y:\n",
    "            print (\"3\")\n",
    "        else:\n",
    "            print(\"2\")\n",
    "        \n",
    "       \n",
    "    elif x!=z:\n",
    "        if x==y:\n",
    "            print(\"2\")\n",
    "        else:\n",
    "            print(\"0\")\n",
    "        \n",
    "        \n",
    "\n",
    "except ValueError:\n",
    "   print(\"Man, learn to type a number.\")\n",
    "\n"
   ]
  },
  {
   "cell_type": "code",
   "execution_count": 22,
   "metadata": {},
   "outputs": [
    {
     "name": "stdout",
     "output_type": "stream",
     "text": [
      "[1, 3, 5, 7, 11]\n",
      "Dude, which element should I append?4\n",
      "[1, 3, 5, 7, 11, 4]\n"
     ]
    }
   ],
   "source": [
    "arr=[1,3,5,7,11]\n",
    "print(arr)\n",
    "a=input(\"Dude, which element should I append?\")\n",
    "\n",
    "a=int(a)\n",
    "arr.append(a)\n",
    "print(arr)\n"
   ]
  },
  {
   "cell_type": "code",
   "execution_count": 30,
   "metadata": {},
   "outputs": [
    {
     "name": "stdout",
     "output_type": "stream",
     "text": [
      "1+2=>312212121\n",
      "TomHungerHungerTomHungerTomHungerTom\n"
     ]
    }
   ],
   "source": [
    "string=input(\"1+2=>3\")\n",
    "string=string.replace(\"1\",\"Tom\")\n",
    "string=string.replace(\"2\",\"Hunger\")\n",
    "string=string.replace(\"3\",\"Essen\")\n",
    "print(string)\n"
   ]
  },
  {
   "cell_type": "code",
   "execution_count": 33,
   "metadata": {},
   "outputs": [
    {
     "name": "stdout",
     "output_type": "stream",
     "text": [
      "20\n",
      "2\n",
      "STRINGS ARE AWESOME!\n",
      "strings are awesome!\n"
     ]
    }
   ],
   "source": [
    "s=\"Strings are awesome!\"\n",
    "print(len(s))\n",
    "print(s.count(\"a\"))\n",
    "print(s.upper())\n",
    "print(s.lower())"
   ]
  },
  {
   "cell_type": "code",
   "execution_count": 101,
   "metadata": {},
   "outputs": [
    {
     "name": "stdout",
     "output_type": "stream",
     "text": [
      "Today: 2021-04-04\n",
      "Tomorrow: 2021-04-05\n",
      "Yesterday: 2021-04-03\n"
     ]
    }
   ],
   "source": [
    "from datetime import date, timedelta\n",
    "\n",
    "today = date.today()\n",
    "print(\"Today:\", today)\n",
    "\n",
    "tomorrow=date.today() + timedelta(days=1)\n",
    "print(\"Tomorrow:\", tomorrow)\n",
    "\n",
    "yesterday = date.today() - timedelta(days=1)\n",
    "print(\"Yesterday:\",yesterday)\n",
    "\n"
   ]
  },
  {
   "cell_type": "code",
   "execution_count": 50,
   "metadata": {},
   "outputs": [
    {
     "name": "stdout",
     "output_type": "stream",
     "text": [
      "2021-04-04 18:08:04.686640\n",
      "2021-04-05 18:08:04.686877\n",
      "2021-04-06 18:08:04.686932\n",
      "2021-04-07 18:08:04.687014\n",
      "2021-04-08 18:08:04.687090\n"
     ]
    }
   ],
   "source": [
    "import datetime\n",
    "for day in range (0,5):\n",
    "    d = datetime.datetime.now() + datetime.timedelta(days = day)\n",
    "    print (d)"
   ]
  },
  {
   "cell_type": "code",
   "execution_count": 55,
   "metadata": {},
   "outputs": [
    {
     "data": {
      "text/plain": [
       "370"
      ]
     },
     "execution_count": 55,
     "metadata": {},
     "output_type": "execute_result"
    }
   ],
   "source": [
    "# complete the below program so it displays days between two dates.\n",
    "from datetime import date\n",
    "a = date(2017,2,23)\n",
    "b = date(2018,2,28)\n",
    "(b-a).days\n",
    "\n"
   ]
  },
  {
   "cell_type": "code",
   "execution_count": 63,
   "metadata": {},
   "outputs": [
    {
     "name": "stdout",
     "output_type": "stream",
     "text": [
      "1\n",
      "1\n",
      "1\n",
      "1\n",
      "1\n",
      "1\n",
      "1\n",
      "1\n",
      "1\n",
      "1\n",
      "Sum of all numbers: 10.0\n"
     ]
    }
   ],
   "source": [
    "# write a program that prints the sum of ten numbers that user has to Enter\n",
    "# try to control for user's input and check if user entered number or string\n",
    "# input: 1,2,3,4,5,6,7,8\n",
    "# output: 36\n",
    "result=0\n",
    "for i in range(1,11):\n",
    "    x=input()\n",
    "    \n",
    "    try:\n",
    "        x=float(x)\n",
    "        result=result+x\n",
    "        \n",
    "    except ValueError:\n",
    "        print(\"Man, learn to type a number.\")\n",
    "    \n",
    "print(\"Sum of all numbers:\",result)    \n",
    "    "
   ]
  },
  {
   "cell_type": "code",
   "execution_count": 64,
   "metadata": {},
   "outputs": [
    {
     "name": "stdout",
     "output_type": "stream",
     "text": [
      "18\n"
     ]
    }
   ],
   "source": [
    "# write a function that does the sum of 3 integers passed to a function (you can call it sumofthree(). Numbers are passed as arguments.\n",
    "# example: sumofthree(5,3,10)\n",
    "# output: 18\n",
    "\n",
    "def sumofthree(x,y,z):\n",
    "    s=x+y+z\n",
    "    print(s)\n",
    "    \n",
    "sumofthree(5,3,10)\n"
   ]
  },
  {
   "cell_type": "code",
   "execution_count": 66,
   "metadata": {},
   "outputs": [
    {
     "name": "stdout",
     "output_type": "stream",
     "text": [
      "2\n",
      "3\n",
      "5\n",
      "7\n"
     ]
    }
   ],
   "source": [
    "# debug the below program and fix what is wrong so it prints all numbers.\n",
    "prime = [2, 3, 5, 7]\n",
    "for prime in prime:\n",
    "    print(prime)"
   ]
  },
  {
   "cell_type": "code",
   "execution_count": 78,
   "metadata": {},
   "outputs": [
    {
     "name": "stdout",
     "output_type": "stream",
     "text": [
      "Input number:3\n",
      "Input number:3\n",
      "Input number:3\n",
      "[3.0, 3.0, 3.0]\n",
      "9.0\n"
     ]
    }
   ],
   "source": [
    "# Write a function you can call it sumthree that will sum three numbers\n",
    "\n",
    "# IMPORTANT: sum function has to be defined as a function with def sumthree():\n",
    "\n",
    "# you have to read all three numbers using for loop and add them to the list.\n",
    "\n",
    "# in the sumthree function you will to the sum of the list elements\n",
    "\n",
    "def sumthree(x):\n",
    "    s=0\n",
    "    for i in range(0, len(x)):    \n",
    "        s = s + x[i];    \n",
    "    print(s)\n",
    "\n",
    "x=[]\n",
    "for i in range(0,3):\n",
    "    num=input(\"Input number:\")\n",
    "    num=float(num)\n",
    "    x.append(num)\n",
    "    \n",
    "sumthree(x)\n"
   ]
  },
  {
   "cell_type": "code",
   "execution_count": 87,
   "metadata": {},
   "outputs": [
    {
     "name": "stdout",
     "output_type": "stream",
     "text": [
      "Input number:3\n",
      "Input number:2\n",
      "Input number:1\n",
      "Largest element is: 3\n"
     ]
    }
   ],
   "source": [
    "def highestnumber(x):\n",
    "    print(\"Largest element is:\", max(x))\n",
    "    \n",
    "x=[]\n",
    "for i in range(0,3):\n",
    "    num=input(\"Input number:\")\n",
    "    num=int(num)\n",
    "    x.append(num)\n",
    "\n",
    "highestnumber(x)\n",
    "\n"
   ]
  },
  {
   "cell_type": "code",
   "execution_count": 88,
   "metadata": {},
   "outputs": [
    {
     "name": "stdout",
     "output_type": "stream",
     "text": [
      "Hello, John Doe , From My Function!, I wish you a great year!\n",
      "3\n"
     ]
    }
   ],
   "source": [
    "def my_function_with_args(username, greeting):\n",
    "    print(\"Hello, %s , From My Function!, I wish you %s\"%(username, greeting))\n",
    "\n",
    "def sum_two_numbers(a, b):\n",
    "    s=a+b\n",
    "    print(s)\n",
    "\n",
    "#prints - \"Hello, John Doe, From My Function!, I wish you a great year!\"\n",
    "my_function_with_args(\"John Doe\", \"a great year!\")\n",
    "\n",
    "# after this line x will hold the value 3!\n",
    "x = sum_two_numbers(1,2)"
   ]
  },
  {
   "cell_type": "code",
   "execution_count": 100,
   "metadata": {},
   "outputs": [
    {
     "name": "stdout",
     "output_type": "stream",
     "text": [
      "Fred \n",
      "Fred Fred \n",
      "Fred Fred Fred \n",
      "Fred Fred Fred Fred \n"
     ]
    }
   ],
   "source": [
    "\n",
    "\n",
    "# input: Fred, 4\n",
    "\n",
    "# output:\n",
    "\n",
    "# Fred\n",
    "\n",
    "# Fred Fred\n",
    "\n",
    "# Fred Fred Fred\n",
    "\n",
    "# Fred Fred Fred Fred\n",
    "\n",
    "# There are 3 mistakes in this code - FIX them\n",
    "\n",
    "\n",
    "\n",
    "def prlines(string, num):\n",
    "\n",
    "    for n in range(0,num):\n",
    "        print (string* (n + 1))\n",
    "\n",
    "prlines(\"Fred \",num=4)\n"
   ]
  },
  {
   "cell_type": "code",
   "execution_count": 118,
   "metadata": {},
   "outputs": [
    {
     "name": "stdout",
     "output_type": "stream",
     "text": [
      "Your number is 17\n",
      "That is less than 20.\n"
     ]
    }
   ],
   "source": [
    "# This gets the random number generator.\n",
    "# There are 3 mistakes in this code - FIX them\n",
    "\n",
    "import random\n",
    "i = random.randrange(10,50)\n",
    "print ('Your number is', i)\n",
    "\n",
    "if i < 20:\n",
    "    print (\"That is less than 20.\")\n",
    "    if i % 3 == 0:\n",
    "        print (\"It is divisible by 3.\")\n",
    "elif i == 20:\n",
    "    print (\"That is exactly twenty.  How nice for you.\")\n",
    "else:\n",
    "    if i % 2 == 1:\n",
    "        print (\"That is an odd number.\")\n",
    "    else:\n",
    "        print (\"That is twice\", i / 2, '.')\n",
    "    print (\"Wow! That's more than 20!\")"
   ]
  },
  {
   "cell_type": "code",
   "execution_count": 142,
   "metadata": {},
   "outputs": [],
   "source": [
    "f= open(\"hello.txt\",\"w+\")\n",
    "\n",
    "text=[\"a line of text\", \"another line of text\", \"a third line\"]\n",
    "i=0\n",
    "for t in text:\n",
    "    \n",
    "    #f.writelines(t)\n",
    "    f.write(t+\"\\r\\n\")\n",
    "    i=i+1\n",
    "f.close()\n",
    "\n",
    "#open,read and print\n",
    "f= open(\"hello.txt\")\n",
    "print (f.readlines())"
   ]
  },
  {
   "cell_type": "code",
   "execution_count": 146,
   "metadata": {},
   "outputs": [
    {
     "name": "stdout",
     "output_type": "stream",
     "text": [
      "['worlds', 'Haitis', 'Pythonistas!']\n"
     ]
    }
   ],
   "source": [
    "def filter_long_words(lst, n):\n",
    "    result=[]\n",
    "    for ele in lst:\n",
    "        if len(ele)>n:\n",
    "            result.append(ele)\n",
    "    \n",
    "    return result \n",
    "  \n",
    "#test \n",
    "print (filter_long_words(['Hello', 'worlds', 'Haitis', 'Pythonistas!'], 5))"
   ]
  },
  {
   "cell_type": "code",
   "execution_count": 177,
   "metadata": {},
   "outputs": [
    {
     "name": "stdout",
     "output_type": "stream",
     "text": [
      "\n",
      ", not in translator, please enter the translation, then enter a new word\n",
      "e\n",
      "\n",
      "['e']\n",
      "None\n"
     ]
    }
   ],
   "source": [
    "dictionary = {\"merry\":\"god\", \"christmas\":\"jul\", \"and\":\"och\", \n",
    "\"happy\":\"gott\", \"new\":\"nytt\", \"year\":\"ar\"}\n",
    "\n",
    "def translate(lst):\n",
    "    result=[]\n",
    "    try:\n",
    "        for ele in lst:\n",
    "            ele=ele.lower()\n",
    "            result.append(dictionary[ele])\n",
    "            return result\n",
    "\n",
    "    except KeyError as ke:\n",
    "            print(ele+\",\",\"not in translator, please enter the translation, then enter a new word\")\n",
    "            translation=input()\n",
    "            dictionary[ele] = translation\n",
    "            new=input()\n",
    "            print (translate([new]))\n",
    "            \n",
    "\n",
    "\n",
    "translates=input()\n",
    "\n",
    "#test\n",
    "print (translate([translates]))"
   ]
  },
  {
   "cell_type": "code",
   "execution_count": 180,
   "metadata": {},
   "outputs": [
    {
     "name": "stdout",
     "output_type": "stream",
     "text": [
      "True\n",
      "False\n",
      "False\n",
      "True\n"
     ]
    }
   ],
   "source": [
    "\"\"\"Write a function is_member() that takes a value \n",
    "i.e. a number, string, etc) x and a list of values a, \n",
    "and returns True if x is a member of a, False otherwise. \n",
    "(Note that this is exactly what the in operator does, but \n",
    "  for the sake of the exercise you should pretend Python \n",
    "  did not have this operator.)\"\"\"\n",
    "\n",
    "def is_member(ele, lst):\n",
    "    for e in lst:\n",
    "        if ele==e:\n",
    "            return True\n",
    "    return False    \n",
    "        \n",
    "\n",
    "#test\n",
    "print (is_member(\"e\", ['a', 'e', 'i', 'o', 'u']))\n",
    "print (is_member(19, [1,3,4,6,18,20]))\n",
    "print (is_member('right', ['wrong', 'list', 'to', 'search']))\n",
    "print (is_member('panda', ['lion', 'zebra', 'elephant', 'panda']))"
   ]
  },
  {
   "cell_type": "code",
   "execution_count": 182,
   "metadata": {},
   "outputs": [
    {
     "name": "stdout",
     "output_type": "stream",
     "text": [
      ".py hello\n"
     ]
    }
   ],
   "source": [
    "class py_solution:\n",
    "    def reverse_words(self, s):\n",
    "        # first split the string into words \n",
    "        words = s.split(' ') \n",
    "  \n",
    "        # then reverse the split string list and join using space \n",
    "        reverse_s = ' '.join(reversed(words)) \n",
    "  \n",
    "        # finally return the joined string \n",
    "        return reverse_s\n",
    "  \n",
    "print(py_solution().reverse_words('hello .py'))"
   ]
  },
  {
   "cell_type": "code",
   "execution_count": 183,
   "metadata": {},
   "outputs": [
    {
     "name": "stdout",
     "output_type": "stream",
     "text": [
      "3.0.2\n",
      "1.1.5\n",
      "1.19.4\n"
     ]
    }
   ],
   "source": [
    "import pandas as pd\n",
    "import numpy\n",
    "import matplotlib\n",
    "print(matplotlib.__version__)\n",
    "print(pd.__version__)\n",
    "print (numpy.__version__)\n",
    "\n",
    "\n"
   ]
  },
  {
   "cell_type": "code",
   "execution_count": 184,
   "metadata": {},
   "outputs": [],
   "source": [
    "import pandas as pd\n",
    "# Assign it to a variable called users and use the 'user_id' as index\n",
    "users = pd.read_table('https://raw.githubusercontent.com/justmarkham/DAT8/master/data/u.user', sep='|', index_col='user_id')\n",
    "# Task1\n",
    "# See the first 25 entries\n",
    "users.head(25)\n",
    "# Task2\n",
    "# See the last 10 entries\n",
    "users.tail(10)\n",
    "# Task3\n",
    "# What is the number of observations in the dataset?\n",
    "len(users)\n",
    "# Task4\n",
    "#What is the number of columns in the dataset?\n",
    "len(users.columns)\n",
    "# Task5\n",
    "# What is the data type of each column?\n",
    "users.info()\n",
    "# Task 6\n",
    "# How many different occupations there are in this dataset?\n",
    "users.occupation.unique()\n",
    "# Task 7\n",
    "# Summarize the DataFrame.\n",
    "users.describe()\n",
    "# Task 8\n",
    "# Summarize all the columns\n",
    "users.nunique()"
   ]
  },
  {
   "cell_type": "code",
   "execution_count": 210,
   "metadata": {},
   "outputs": [
    {
     "data": {
      "image/png": "[encoded data removed]",
      "text/plain": [
       "<Figure size 432x288 with 1 Axes>"
      ]
     },
     "metadata": {},
     "output_type": "display_data"
    },
    {
     "name": "stdout",
     "output_type": "stream",
     "text": [
      "People survived: 342\n"
     ]
    },
    {
     "data": {
      "image/png": "[encoded data removed]",
      "text/plain": [
       "<Figure size 430.5x360 with 1 Axes>"
      ]
     },
     "metadata": {
      "needs_background": "light"
     },
     "output_type": "display_data"
    }
   ],
   "source": [
    "# In this task you will visualize your data\n",
    "# you should work with jupyter notebook! start it before doing the task.\n",
    "\n",
    "#Import the necessary libraries\n",
    "import pandas as pd\n",
    "import matplotlib.pyplot as plt\n",
    "import seaborn as sns\n",
    "import numpy as np\n",
    "\n",
    "%matplotlib inline\n",
    "\n",
    "# we will use data from Titanic Kaggle data set: https://raw.githubusercontent.com/mslyon/mariorepo/master/train.csv\n",
    "\n",
    "url = 'https://raw.githubusercontent.com/mslyon/mariorepo/master/train.csv'\n",
    "\n",
    "\n",
    "titanic = pd.read_csv(url)\n",
    "\n",
    "titanic.head()\n",
    "\n",
    "# Lets set Set PassengerId as the index\n",
    "titanic.set_index('PassengerId').head()\n",
    "\n",
    "# now we want to create  a pie chart presenting the male/female proportion\n",
    "titanic=titanic[titanic.Survived==1]\n",
    "# sum the instances of males and females\n",
    "males = (titanic['Sex'] == 'male').sum()\n",
    "females = (titanic['Sex'] == 'female').sum()\n",
    "\n",
    "# put them into a list called proportions\n",
    "proportions = [males, females]\n",
    "\n",
    "# Create a pie chart\n",
    "plt.pie(\n",
    "    # using proportions\n",
    "    proportions,\n",
    "    \n",
    "    # with the labels being officer names\n",
    "    labels = ['Males', 'Females'],\n",
    "    \n",
    "    # with no shadows\n",
    "    shadow = False,\n",
    "    \n",
    "    # with colors\n",
    "    colors = ['blue','red'],\n",
    "    \n",
    "    # with one slide exploded out\n",
    "    explode = (0.15 , 0),\n",
    "    \n",
    "    # with the start angle at 90%\n",
    "    startangle = 90,\n",
    "    \n",
    "    # with the percent listed as a fraction\n",
    "    autopct = '%1.1f%%'\n",
    "    )\n",
    "\n",
    "# View the plot drop above\n",
    "plt.axis('equal')\n",
    "\n",
    "# Set labels\n",
    "plt.title(\"Sex Proportion\")\n",
    "\n",
    "# View the plot\n",
    "plt.tight_layout()\n",
    "plt.show()\n",
    "\n",
    "\n",
    "# now we want to create a scatterplot with the Fare payed and the Age, differ the plot color by gender\n",
    "# the code is\n",
    "# creates the plot using\n",
    "lm = sns.lmplot(x = 'Age', y = 'Fare', data = titanic, hue = 'Sex', fit_reg=False)\n",
    "\n",
    "# set title\n",
    "lm.set(title = 'Fare x Age')\n",
    "\n",
    "# get the axes object and tweak it\n",
    "axes = lm.axes\n",
    "axes[0,0].set_ylim(-5,)\n",
    "axes[0,0].set_xlim(-5,85)\n",
    "\n",
    "\n",
    "\n"
   ]
  },
  {
   "cell_type": "code",
   "execution_count": 213,
   "metadata": {},
   "outputs": [
    {
     "name": "stdout",
     "output_type": "stream",
     "text": [
      "People survived: 342\n"
     ]
    },
    {
     "data": {
      "image/png": "[encoded data removed]",
      "text/plain": [
       "<Figure size 432x288 with 1 Axes>"
      ]
     },
     "metadata": {},
     "output_type": "display_data"
    }
   ],
   "source": [
    "import pandas as pd\n",
    "import matplotlib.pyplot as plt\n",
    "import seaborn as sns\n",
    "import numpy as np\n",
    "\n",
    "%matplotlib inline\n",
    "\n",
    "url = 'https://raw.githubusercontent.com/mslyon/mariorepo/master/train.csv'\n",
    "titanic = pd.read_csv(url)\n",
    "\n",
    "\n",
    "# Lets set Set PassengerId as the index\n",
    "titanic.set_index('PassengerId').head()\n",
    "\n",
    "# TASK 1: How many people survived?\n",
    "print(\"People survived:\", titanic.Survived.sum())\n",
    "\n",
    "# TASK 2: can you modify the previsous pie chart to display only the survived\n",
    "\n",
    "# now we want to create  a pie chart presenting the male/female proportion\n",
    "\n",
    "#new ------------------\n",
    "titanic=titanic[titanic.Survived==1]\n",
    "#new ------------------\n",
    "\n",
    "# sum the instances of males and females\n",
    "males = (titanic['Sex'] == 'male').sum()\n",
    "females = (titanic['Sex'] == 'female').sum()\n",
    "\n",
    "# put them into a list called proportions\n",
    "proportions = [males, females]\n",
    "\n",
    "# Create a pie chart\n",
    "plt.pie(\n",
    "    # using proportions\n",
    "    proportions,\n",
    "    \n",
    "    # with the labels being officer names\n",
    "    labels = ['Males', 'Females'],\n",
    "    \n",
    "    # with no shadows\n",
    "    shadow = False,\n",
    "    \n",
    "    # with colors\n",
    "    colors = ['blue','red'],\n",
    "    \n",
    "    # with one slide exploded out\n",
    "    explode = (0.15 , 0),\n",
    "    \n",
    "    # with the start angle at 90%\n",
    "    startangle = 90,\n",
    "    \n",
    "    # with the percent listed as a fraction\n",
    "    autopct = '%1.1f%%'\n",
    "    )\n",
    "\n",
    "# View the plot drop above\n",
    "plt.axis('equal')\n",
    "\n",
    "# Set labels\n",
    "plt.title(\"Sex Proportion\")\n",
    "\n",
    "# View the plot\n",
    "plt.tight_layout()\n",
    "plt.show()"
   ]
  },
  {
   "cell_type": "code",
   "execution_count": 221,
   "metadata": {},
   "outputs": [
    {
     "name": "stdout",
     "output_type": "stream",
     "text": [
      "<class 'pandas.core.frame.DataFrame'>\n",
      "RangeIndex: 1016395 entries, 0 to 1016394\n",
      "Data columns (total 7 columns):\n",
      " #   Column      Non-Null Count    Dtype \n",
      "---  ------      --------------    ----- \n",
      " 0   Unnamed: 0  1016395 non-null  int64 \n",
      " 1   Id          1016395 non-null  int64 \n",
      " 2   Name        1016395 non-null  object\n",
      " 3   Year        1016395 non-null  int64 \n",
      " 4   Gender      1016395 non-null  object\n",
      " 5   State       1016395 non-null  object\n",
      " 6   Count       1016395 non-null  int64 \n",
      "dtypes: int64(4), object(3)\n",
      "memory usage: 54.3+ MB\n"
     ]
    }
   ],
   "source": [
    "\n",
    "import pandas as pd\n",
    "# TASK 1: Assign it to a variable called baby_names\n",
    "url='https://raw.githubusercontent.com/mslyon/testone/master/US_Baby_Names_right.csv'\n",
    "baby_names = pd.read_csv(url)\n",
    "# TASK 2: Check the info with .info()\n",
    "baby_names.info()\n",
    "# TASK 3: Check head with head()\n",
    "baby_names.head()\n",
    "# TASK 4: Delete the column 'Unnamed: 0' and 'Id'\n",
    "del baby_names[\"Unnamed: 0\"]\n",
    "del baby_names[\"Id\"]\n",
    "# lets so you delete sum the Year column, \n",
    "del baby_names[\"Year\"]\n",
    "# TASK 5: Group the dataset by name and assign to names\n",
    "# use .groupby(\"Name\").sum()\n",
    "baby_names.groupby(\"Name\").sum()\n",
    "# TASK 6: sort from the biggest value to the smallest one / use .sort_values\n",
    "new=baby_names.groupby(\"Name\").sum()\n",
    "new=new.sort_values(\"Count\", axis=0, ascending=False)\n",
    "# TASK 7: as we have already grouped by the name, all the names are unique already. \n",
    "# get the length of names - use len\n",
    "len(baby_names.groupby(\"Name\").sum())\n",
    "# TASK 8: What is the name with most occurrences?\n",
    "new.head(1) #Jacob\n"
   ]
  },
  {
   "cell_type": "code",
   "execution_count": 280,
   "metadata": {},
   "outputs": [
    {
     "name": "stdout",
     "output_type": "stream",
     "text": [
      "<class 'pandas.core.frame.DataFrame'>\n",
      "RangeIndex: 8465 entries, 0 to 8464\n",
      "Data columns (total 7 columns):\n",
      " #   Column     Non-Null Count  Dtype  \n",
      "---  ------     --------------  -----  \n",
      " 0   Date       8465 non-null   object \n",
      " 1   Open       8465 non-null   float64\n",
      " 2   High       8465 non-null   float64\n",
      " 3   Low        8465 non-null   float64\n",
      " 4   Close      8465 non-null   float64\n",
      " 5   Volume     8465 non-null   int64  \n",
      " 6   Adj Close  8465 non-null   float64\n",
      "dtypes: float64(5), int64(1), object(1)\n",
      "memory usage: 463.1+ KB\n",
      "        Date   Open   High    Low  Close    Volume  Adj Close\n",
      "0 2014-07-08  96.27  96.80  93.92  95.35  65130000      95.35\n",
      "1 2014-07-07  94.14  95.99  94.10  95.97  56305400      95.97\n",
      "2 2014-07-03  93.67  94.10  93.20  94.03  22891800      94.03\n",
      "3 2014-07-02  93.87  94.06  93.09  93.48  28420900      93.48\n",
      "4 2014-07-01  93.52  94.07  93.13  93.52  38170200      93.52\n",
      "8465\n"
     ]
    },
    {
     "name": "stderr",
     "output_type": "stream",
     "text": [
      "/anaconda3/lib/python3.7/site-packages/matplotlib/cbook/__init__.py:1377: FutureWarning: Support for multi-dimensional indexing (e.g. `obj[:, None]`) is deprecated and will be removed in a future version.  Convert to a numpy array before indexing instead.\n",
      "  x[:, None]\n",
      "/anaconda3/lib/python3.7/site-packages/matplotlib/axes/_base.py:237: FutureWarning: Support for multi-dimensional indexing (e.g. `obj[:, None]`) is deprecated and will be removed in a future version.  Convert to a numpy array before indexing instead.\n",
      "  x = x[:, np.newaxis]\n",
      "/anaconda3/lib/python3.7/site-packages/matplotlib/axes/_base.py:239: FutureWarning: Support for multi-dimensional indexing (e.g. `obj[:, None]`) is deprecated and will be removed in a future version.  Convert to a numpy array before indexing instead.\n",
      "  y = y[:, np.newaxis]\n"
     ]
    },
    {
     "data": {
      "image/png": "[encoded data removed]",
      "text/plain": [
       "<Figure size 1440x648 with 1 Axes>"
      ]
     },
     "metadata": {
      "needs_background": "light"
     },
     "output_type": "display_data"
    }
   ],
   "source": [
    "import pandas as pd\n",
    "import numpy as np\n",
    "import matplotlib.pyplot as plt\n",
    "\n",
    "%matplotlib inline\n",
    "\n",
    "url=\"http://codingxcamp.com/datasets/appl_1980_2014.csv\"\n",
    "\n",
    "# TASK 1: Assign it to a variable apple and read the head\n",
    "apple=pd.read_csv(url)\n",
    "# TASK 2: Check out the type of the columns\n",
    "apple.info()\n",
    "# We transform the Date column as a datetime type\n",
    "# it seems APPLE DOES NOT SUPPORT ANYMORE stock fetching - please try to use QUANDL instead (https://medium.com/python-data/quandl-getting-end-of-day-stock-data-with-python-8652671d6661)\n",
    "apple.Date = pd.to_datetime(apple.Date)\n",
    "print(apple.head())\n",
    "print(len(apple))\n",
    "# TASK 3: Set the date as the index\n",
    "apple=apple.set_index(\"Date\")\n",
    "# As the index is from the most recent date we make the first entry the oldest date.\n",
    "apple=apple.sort_index(ascending = True)\n",
    "# we get the last business day of each month\n",
    "apple_month = apple.resample('BM')\n",
    "# Plot the 'Adj Close' value. Set the size of the figure to 13.5 x 9 inches\n",
    "plt.figure(figsize=(20,9))\n",
    "plt.title(\"Apple Stock Price\")\n",
    "plt.plot(apple.index, apple[\"Adj Close\"])\n",
    "plt.show()"
   ]
  },
  {
   "cell_type": "code",
   "execution_count": 328,
   "metadata": {},
   "outputs": [
    {
     "name": "stdout",
     "output_type": "stream",
     "text": [
      "   year          AAPL          TSLA           IBM  LNKD\n",
      "0  2015  5.226420e+10  5.441089e+09  1.105583e+09   0.0\n"
     ]
    },
    {
     "name": "stderr",
     "output_type": "stream",
     "text": [
      "/anaconda3/lib/python3.7/site-packages/pandas_datareader/base.py:272: SymbolWarning: Failed to read symbol: 'LNKD', replacing with NaN.\n",
      "  raise NotImplementedError\n",
      "/anaconda3/lib/python3.7/site-packages/ipykernel_launcher.py:20: FutureWarning: weekofyear and week have been deprecated, please use DatetimeIndex.isocalendar().week instead, which returns a Series.  To exactly reproduce the behavior of week and weekofyear and return an Index, you may call pd.Int64Index(idx.isocalendar().week)\n",
      "/anaconda3/lib/python3.7/site-packages/ipykernel_launcher.py:20: SettingWithCopyWarning: \n",
      "A value is trying to be set on a copy of a slice from a DataFrame.\n",
      "Try using .loc[row_indexer,col_indexer] = value instead\n",
      "\n",
      "See the caveats in the documentation: https://pandas.pydata.org/pandas-docs/stable/user_guide/indexing.html#returning-a-view-versus-a-copy\n",
      "/anaconda3/lib/python3.7/site-packages/ipykernel_launcher.py:21: SettingWithCopyWarning: \n",
      "A value is trying to be set on a copy of a slice from a DataFrame.\n",
      "Try using .loc[row_indexer,col_indexer] = value instead\n",
      "\n",
      "See the caveats in the documentation: https://pandas.pydata.org/pandas-docs/stable/user_guide/indexing.html#returning-a-view-versus-a-copy\n"
     ]
    }
   ],
   "source": [
    "import pandas_datareader.data as web\n",
    "\n",
    "# package for dates\n",
    "import datetime as dt\n",
    "from datetime import date\n",
    "\n",
    "# TASK 1: Create your time range (start and end variables). The start date should be 01/01/2015 and the end should today (whatever your today is) - use dt.datetime\n",
    "end=date.today()\n",
    "start=datetime.date(2015, 1, 1)\n",
    "# we pick the Apple, Tesla, Twitter, IBM, LinkedIn stocks symbols and assign them to a variable called stocks\n",
    "stocks = ['AAPL', 'TSLA', 'IBM', 'LNKD']\n",
    "\n",
    "# Read the data from google, assign to df and print it\n",
    "df = web.DataReader(stocks, 'yahoo', start, end)\n",
    "# we now create a dataFrame called vol, with the Volume values.\n",
    "vol = df['Volume']\n",
    "vol.head()\n",
    "\n",
    "# we now want to Aggregate the data of Volume to weekly\n",
    "vol['week'] = vol.index.week\n",
    "vol['year'] = vol.index.year\n",
    "\n",
    "week = vol.groupby(['week','year']).sum()\n",
    "week.head()\n",
    "\n",
    "# TASK 2: Find all the volume traded in the year of 2015\n",
    "# tip: you will have to delete week column but also to use groupby\n",
    "week=week.reset_index()\n",
    "vol=week.groupby(\"year\").agg({\"AAPL\":sum,\"TSLA\":sum,\"IBM\":sum,\"LNKD\":sum})\n",
    "vol=vol.reset_index()\n",
    "\n",
    "#Volume in 2015\n",
    "print(vol[vol.year==2015])\n"
   ]
  },
  {
   "cell_type": "code",
   "execution_count": null,
   "metadata": {},
   "outputs": [],
   "source": []
  },
  {
   "cell_type": "code",
   "execution_count": null,
   "metadata": {},
   "outputs": [],
   "source": []
  },
  {
   "cell_type": "code",
   "execution_count": null,
   "metadata": {},
   "outputs": [],
   "source": []
  }
 ],
 "metadata": {
  "kernelspec": {
   "display_name": "Python 3",
   "language": "python",
   "name": "python3"
  },
  "language_info": {
   "codemirror_mode": {
    "name": "ipython",
    "version": 3
   },
   "file_extension": ".py",
   "mimetype": "text/x-python",
   "name": "python",
   "nbconvert_exporter": "python",
   "pygments_lexer": "ipython3",
   "version": "3.7.1"
  }
 },
 "nbformat": 4,
 "nbformat_minor": 2
}
